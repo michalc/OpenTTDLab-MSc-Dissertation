{
 "cells": [
  {
   "cell_type": "markdown",
   "id": "0ccb82ce-02a8-41f7-b815-5795cdb01e84",
   "metadata": {},
   "source": [
    "## OpenTTD scaling - running experiment\n",
    "\n",
    "Runs a series of experiments of OpenTTDLab, varying the number of workers used, what data is retrieved from the worker processes, recording how long each takes.\n",
    "\n",
    "Results are saved to 01_scaling_raw.csv."
   ]
  },
  {
   "cell_type": "code",
   "execution_count": 1,
   "id": "fbb3f720-3294-4aed-9379-c315ebefdd52",
   "metadata": {
    "scrolled": true
   },
   "outputs": [
    {
     "name": "stdout",
     "output_type": "stream",
     "text": [
      "\u001b[33mWARNING: Ignoring invalid distribution ~qlalchemy (/Users/michalc/miniconda3/envs/py311/lib/python3.11/site-packages)\u001b[0m\u001b[33m\n",
      "\u001b[0m\u001b[33mWARNING: Ignoring invalid distribution ~qlalchemy (/Users/michalc/miniconda3/envs/py311/lib/python3.11/site-packages)\u001b[0m\u001b[33m\n",
      "\u001b[0mRequirement already satisfied: OpenTTDLab==0.0.72 in /Users/michalc/miniconda3/envs/py311/lib/python3.11/site-packages (0.0.72)\n",
      "Requirement already satisfied: pandas==2.2.0 in /Users/michalc/miniconda3/envs/py311/lib/python3.11/site-packages (2.2.0)\n",
      "Requirement already satisfied: dill>=0.3.8 in /Users/michalc/miniconda3/envs/py311/lib/python3.11/site-packages (from OpenTTDLab==0.0.72) (0.3.8)\n",
      "Requirement already satisfied: httpx>=0.26.0 in /Users/michalc/miniconda3/envs/py311/lib/python3.11/site-packages (from OpenTTDLab==0.0.72) (0.27.0)\n",
      "Requirement already satisfied: platformdirs>=4.1.0 in /Users/michalc/miniconda3/envs/py311/lib/python3.11/site-packages (from OpenTTDLab==0.0.72) (4.2.2)\n",
      "Requirement already satisfied: pyyaml>=6.0.1 in /Users/michalc/miniconda3/envs/py311/lib/python3.11/site-packages (from OpenTTDLab==0.0.72) (6.0.1)\n",
      "Requirement already satisfied: rich>=13.7.1 in /Users/michalc/miniconda3/envs/py311/lib/python3.11/site-packages (from OpenTTDLab==0.0.72) (13.7.1)\n",
      "Requirement already satisfied: numpy<2,>=1.23.2 in /Users/michalc/miniconda3/envs/py311/lib/python3.11/site-packages (from pandas==2.2.0) (1.26.4)\n",
      "Requirement already satisfied: python-dateutil>=2.8.2 in /Users/michalc/miniconda3/envs/py311/lib/python3.11/site-packages (from pandas==2.2.0) (2.9.0.post0)\n",
      "Requirement already satisfied: pytz>=2020.1 in /Users/michalc/miniconda3/envs/py311/lib/python3.11/site-packages (from pandas==2.2.0) (2023.3)\n",
      "Requirement already satisfied: tzdata>=2022.7 in /Users/michalc/miniconda3/envs/py311/lib/python3.11/site-packages (from pandas==2.2.0) (2024.1)\n",
      "Requirement already satisfied: anyio in /Users/michalc/miniconda3/envs/py311/lib/python3.11/site-packages (from httpx>=0.26.0->OpenTTDLab==0.0.72) (4.4.0)\n",
      "Requirement already satisfied: certifi in /Users/michalc/miniconda3/envs/py311/lib/python3.11/site-packages (from httpx>=0.26.0->OpenTTDLab==0.0.72) (2023.11.17)\n",
      "Requirement already satisfied: httpcore==1.* in /Users/michalc/miniconda3/envs/py311/lib/python3.11/site-packages (from httpx>=0.26.0->OpenTTDLab==0.0.72) (1.0.5)\n",
      "Requirement already satisfied: idna in /Users/michalc/miniconda3/envs/py311/lib/python3.11/site-packages (from httpx>=0.26.0->OpenTTDLab==0.0.72) (3.7)\n",
      "Requirement already satisfied: sniffio in /Users/michalc/miniconda3/envs/py311/lib/python3.11/site-packages (from httpx>=0.26.0->OpenTTDLab==0.0.72) (1.3.1)\n",
      "Requirement already satisfied: h11<0.15,>=0.13 in /Users/michalc/miniconda3/envs/py311/lib/python3.11/site-packages (from httpcore==1.*->httpx>=0.26.0->OpenTTDLab==0.0.72) (0.14.0)\n",
      "Requirement already satisfied: six>=1.5 in /Users/michalc/miniconda3/envs/py311/lib/python3.11/site-packages (from python-dateutil>=2.8.2->pandas==2.2.0) (1.16.0)\n",
      "Requirement already satisfied: markdown-it-py>=2.2.0 in /Users/michalc/miniconda3/envs/py311/lib/python3.11/site-packages (from rich>=13.7.1->OpenTTDLab==0.0.72) (3.0.0)\n",
      "Requirement already satisfied: pygments<3.0.0,>=2.13.0 in /Users/michalc/miniconda3/envs/py311/lib/python3.11/site-packages (from rich>=13.7.1->OpenTTDLab==0.0.72) (2.18.0)\n",
      "Requirement already satisfied: mdurl~=0.1 in /Users/michalc/miniconda3/envs/py311/lib/python3.11/site-packages (from markdown-it-py>=2.2.0->rich>=13.7.1->OpenTTDLab==0.0.72) (0.1.2)\n",
      "\u001b[33mWARNING: Ignoring invalid distribution ~qlalchemy (/Users/michalc/miniconda3/envs/py311/lib/python3.11/site-packages)\u001b[0m\u001b[33m\n",
      "\u001b[0m\u001b[33mWARNING: Ignoring invalid distribution ~qlalchemy (/Users/michalc/miniconda3/envs/py311/lib/python3.11/site-packages)\u001b[0m\u001b[33m\n",
      "\u001b[0m\n",
      "\u001b[1m[\u001b[0m\u001b[34;49mnotice\u001b[0m\u001b[1;39;49m]\u001b[0m\u001b[39;49m A new release of pip is available: \u001b[0m\u001b[31;49m24.0\u001b[0m\u001b[39;49m -> \u001b[0m\u001b[32;49m24.1\u001b[0m\n",
      "\u001b[1m[\u001b[0m\u001b[34;49mnotice\u001b[0m\u001b[1;39;49m]\u001b[0m\u001b[39;49m To update, run: \u001b[0m\u001b[32;49mpip3.11 install --upgrade pip\u001b[0m\n"
     ]
    }
   ],
   "source": [
    "!python -m pip install OpenTTDLab==0.0.72 pandas==2.2.0"
   ]
  },
  {
   "cell_type": "code",
   "execution_count": null,
   "id": "d188ec52-9f62-4d85-a179-50ac54b766cd",
   "metadata": {},
   "outputs": [
    {
     "data": {
      "application/vnd.jupyter.widget-view+json": {
       "model_id": "5c3cccde2eb44e9f8cd1533685b68126",
       "version_major": 2,
       "version_minor": 0
      },
      "text/plain": [
       "Output()"
      ]
     },
     "metadata": {},
     "output_type": "display_data"
    }
   ],
   "source": [
    "import time\n",
    "from openttdlab import run_experiments, bananas_ai\n",
    "\n",
    "def all_results(row):\n",
    "    return [row]\n",
    "\n",
    "def minimal_results(row):\n",
    "    # It is expected early on the game that no company value is recorded\n",
    "    def get_company_value(player):\n",
    "        try:\n",
    "            return player['old_economy'][0]['company_value']\n",
    "        except (KeyError, IndexError):\n",
    "            return 0\n",
    "\n",
    "    return [{\n",
    "        'date': row['date'],\n",
    "        'company_value': get_company_value(row['chunks']['PLYR']['0']),\n",
    "        'error': row['error'],\n",
    "    }]\n",
    "    \n",
    "def run_experiment_timed(max_workers, result_processor):\n",
    "    start = time.monotonic()\n",
    "    results = run_experiments(\n",
    "        openttd_version='13.4',\n",
    "        opengfx_version='7.1',\n",
    "        experiments=(\n",
    "           {\n",
    "             'seed': seed,\n",
    "             'ais': (\n",
    "                 # This is trAIns 2.1. The md5 enforces a specific version of trAIns and\n",
    "                 # was retrieved by a previous call to openttdlab.dowload_from_bananas\n",
    "                 bananas_ai('54524149', 'trAIns', md5='c4c069dc797674e545411b59867ad0c2'),\n",
    "             ),\n",
    "             'days': 366 * 4 + 1,\n",
    "           }\n",
    "           for seed in range(0, 50)\n",
    "        ),\n",
    "        result_processor=result_processor,\n",
    "        max_workers=max_workers,\n",
    "    )\n",
    "    assert all(not row['error'] for row in results)\n",
    "    end = time.monotonic()\n",
    "    return (end - start)\n",
    "\n",
    "results = [\n",
    "    {\n",
    "        'max_workers': max_workers,\n",
    "        'results': 'all',\n",
    "        'wallclock_time': run_experiment_timed(max_workers, all_results),\n",
    "    }\n",
    "    for max_workers in range(1, 9)\n",
    "] + [\n",
    "        {\n",
    "        'max_workers': max_workers,\n",
    "        'results': 'minimal',\n",
    "        'wallclock_time': run_experiment_timed(max_workers, minimal_results),\n",
    "    }\n",
    "    for max_workers in range(1, 9)\n",
    "]"
   ]
  },
  {
   "cell_type": "code",
   "execution_count": null,
   "id": "f4e85587-bfd7-48cd-8dd9-25a64b0ea7fe",
   "metadata": {},
   "outputs": [],
   "source": [
    "import pandas as pd\n",
    "\n",
    "df = pd.DataFrame(results)\n",
    "df.to_csv('01_scaling_raw.csv', index=False)"
   ]
  }
 ],
 "metadata": {
  "kernelspec": {
   "display_name": "Python 3 (ipykernel)",
   "language": "python",
   "name": "python3"
  },
  "language_info": {
   "codemirror_mode": {
    "name": "ipython",
    "version": 3
   },
   "file_extension": ".py",
   "mimetype": "text/x-python",
   "name": "python",
   "nbconvert_exporter": "python",
   "pygments_lexer": "ipython3",
   "version": "3.11.0"
  }
 },
 "nbformat": 4,
 "nbformat_minor": 5
}
