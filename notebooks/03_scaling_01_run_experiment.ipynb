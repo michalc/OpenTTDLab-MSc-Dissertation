{
 "cells": [
  {
   "cell_type": "markdown",
   "id": "794ac7ed-3ab4-4da4-a880-c60402f4a58d",
   "metadata": {},
   "source": [
    "# Scaling - run experiments\n",
    "\n",
    "Runs a series of experiments of OpenTTDLab, varying the number of workers used, what data is retrieved from the worker processes, recording how long each takes.\n",
    "\n",
    "Results are saved to 03_scaling_raw.csv."
   ]
  },
  {
   "cell_type": "code",
   "execution_count": null,
   "id": "fbb3f720-3294-4aed-9379-c315ebefdd52",
   "metadata": {
    "scrolled": true
   },
   "outputs": [],
   "source": [
    "!python -m pip install OpenTTDLab==0.0.72 pandas==2.2.0"
   ]
  },
  {
   "cell_type": "code",
   "execution_count": null,
   "id": "d188ec52-9f62-4d85-a179-50ac54b766cd",
   "metadata": {},
   "outputs": [],
   "source": [
    "import time\n",
    "from openttdlab import run_experiments, bananas_ai\n",
    "\n",
    "def all_results(row):\n",
    "    return [row]\n",
    "\n",
    "def minimal_results(row):\n",
    "    # It is expected early on the game that no company value is recorded\n",
    "    def get_company_value(player):\n",
    "        try:\n",
    "            return player['old_economy'][0]['company_value']\n",
    "        except (KeyError, IndexError):\n",
    "            return 0\n",
    "\n",
    "    return [{\n",
    "        'date': row['date'],\n",
    "        'company_value': get_company_value(row['chunks']['PLYR']['0']),\n",
    "        'error': row['error'],\n",
    "    }]\n",
    "    \n",
    "def run_experiment_timed(max_workers, result_processor):\n",
    "    start = time.monotonic()\n",
    "    results = run_experiments(\n",
    "        openttd_version='13.4',\n",
    "        opengfx_version='7.1',\n",
    "        experiments=(\n",
    "           {\n",
    "             'seed': seed,\n",
    "             'ais': (\n",
    "                 # This is trAIns 2.1. The md5 enforces a specific version\n",
    "                 # of trAIns and was retrieved by a previous call to\n",
    "                 # openttdlab.dowload_from_bananas\n",
    "                 bananas_ai(\n",
    "                     '54524149', 'trAIns',\n",
    "                     md5='c4c069dc797674e545411b59867ad0c2',\n",
    "                 ),\n",
    "             ),\n",
    "             'days': 366 * 4 + 1,\n",
    "           }\n",
    "           for seed in range(0, 50)\n",
    "        ),\n",
    "        result_processor=result_processor,\n",
    "        max_workers=max_workers,\n",
    "    )\n",
    "    assert all(not row['error'] for row in results)\n",
    "    end = time.monotonic()\n",
    "    return (end - start)\n",
    "\n",
    "results = [\n",
    "    {\n",
    "        'max_workers': max_workers,\n",
    "        'results': 'all',\n",
    "        'wallclock_time': run_experiment_timed(max_workers, all_results),\n",
    "    }\n",
    "    for max_workers in range(1, 9)\n",
    "] + [\n",
    "        {\n",
    "        'max_workers': max_workers,\n",
    "        'results': 'minimal',\n",
    "        'wallclock_time': run_experiment_timed(max_workers, minimal_results),\n",
    "    }\n",
    "    for max_workers in range(1, 9)\n",
    "]"
   ]
  },
  {
   "cell_type": "code",
   "execution_count": null,
   "id": "f4e85587-bfd7-48cd-8dd9-25a64b0ea7fe",
   "metadata": {},
   "outputs": [],
   "source": [
    "import pandas as pd\n",
    "\n",
    "df = pd.DataFrame(results)\n",
    "df.to_csv('01_scaling_results_01_raw.csv', index=False)"
   ]
  }
 ],
 "metadata": {
  "kernelspec": {
   "display_name": "Python 3 (ipykernel)",
   "language": "python",
   "name": "python3"
  },
  "language_info": {
   "codemirror_mode": {
    "name": "ipython",
    "version": 3
   },
   "file_extension": ".py",
   "mimetype": "text/x-python",
   "name": "python",
   "nbconvert_exporter": "python",
   "pygments_lexer": "ipython3",
   "version": "3.11.0"
  }
 },
 "nbformat": 4,
 "nbformat_minor": 5
}
