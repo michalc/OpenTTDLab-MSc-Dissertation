{
 "cells": [
  {
   "cell_type": "markdown",
   "id": "84673eb5-3076-41cf-961c-d5fe92664d29",
   "metadata": {},
   "source": [
    "# Own parameterised AI - run experiments¶\n",
    "\n",
    "Runs a series of experiments of OpenTTDLab, running https://github.com/michalc/ParameterisedAI for a varying number of buses.\n",
    "\n",
    "Results are saved to 02_own_parameterised_ai_01_raw.csv."
   ]
  },
  {
   "cell_type": "code",
   "execution_count": 1,
   "id": "6699905b-f37b-42a1-b1ae-559c56079d9a",
   "metadata": {},
   "outputs": [
    {
     "name": "stdout",
     "output_type": "stream",
     "text": [
      "\u001b[33mWARNING: Ignoring invalid distribution ~qlalchemy (/Users/michalc/miniconda3/envs/py311/lib/python3.11/site-packages)\u001b[0m\u001b[33m\n",
      "\u001b[0m\u001b[33mWARNING: Ignoring invalid distribution ~qlalchemy (/Users/michalc/miniconda3/envs/py311/lib/python3.11/site-packages)\u001b[0m\u001b[33m\n",
      "\u001b[0mRequirement already satisfied: OpenTTDLab==0.0.72 in /Users/michalc/miniconda3/envs/py311/lib/python3.11/site-packages (0.0.72)\n",
      "Requirement already satisfied: pandas==2.2.0 in /Users/michalc/miniconda3/envs/py311/lib/python3.11/site-packages (2.2.0)\n",
      "Requirement already satisfied: dill>=0.3.8 in /Users/michalc/miniconda3/envs/py311/lib/python3.11/site-packages (from OpenTTDLab==0.0.72) (0.3.8)\n",
      "Requirement already satisfied: httpx>=0.26.0 in /Users/michalc/miniconda3/envs/py311/lib/python3.11/site-packages (from OpenTTDLab==0.0.72) (0.27.0)\n",
      "Requirement already satisfied: platformdirs>=4.1.0 in /Users/michalc/miniconda3/envs/py311/lib/python3.11/site-packages (from OpenTTDLab==0.0.72) (4.2.2)\n",
      "Requirement already satisfied: pyyaml>=6.0.1 in /Users/michalc/miniconda3/envs/py311/lib/python3.11/site-packages (from OpenTTDLab==0.0.72) (6.0.1)\n",
      "Requirement already satisfied: rich>=13.7.1 in /Users/michalc/miniconda3/envs/py311/lib/python3.11/site-packages (from OpenTTDLab==0.0.72) (13.7.1)\n",
      "Requirement already satisfied: numpy<2,>=1.23.2 in /Users/michalc/miniconda3/envs/py311/lib/python3.11/site-packages (from pandas==2.2.0) (1.26.4)\n",
      "Requirement already satisfied: python-dateutil>=2.8.2 in /Users/michalc/miniconda3/envs/py311/lib/python3.11/site-packages (from pandas==2.2.0) (2.9.0.post0)\n",
      "Requirement already satisfied: pytz>=2020.1 in /Users/michalc/miniconda3/envs/py311/lib/python3.11/site-packages (from pandas==2.2.0) (2023.3)\n",
      "Requirement already satisfied: tzdata>=2022.7 in /Users/michalc/miniconda3/envs/py311/lib/python3.11/site-packages (from pandas==2.2.0) (2024.1)\n",
      "Requirement already satisfied: anyio in /Users/michalc/miniconda3/envs/py311/lib/python3.11/site-packages (from httpx>=0.26.0->OpenTTDLab==0.0.72) (4.4.0)\n",
      "Requirement already satisfied: certifi in /Users/michalc/miniconda3/envs/py311/lib/python3.11/site-packages (from httpx>=0.26.0->OpenTTDLab==0.0.72) (2023.11.17)\n",
      "Requirement already satisfied: httpcore==1.* in /Users/michalc/miniconda3/envs/py311/lib/python3.11/site-packages (from httpx>=0.26.0->OpenTTDLab==0.0.72) (1.0.5)\n",
      "Requirement already satisfied: idna in /Users/michalc/miniconda3/envs/py311/lib/python3.11/site-packages (from httpx>=0.26.0->OpenTTDLab==0.0.72) (3.7)\n",
      "Requirement already satisfied: sniffio in /Users/michalc/miniconda3/envs/py311/lib/python3.11/site-packages (from httpx>=0.26.0->OpenTTDLab==0.0.72) (1.3.1)\n",
      "Requirement already satisfied: h11<0.15,>=0.13 in /Users/michalc/miniconda3/envs/py311/lib/python3.11/site-packages (from httpcore==1.*->httpx>=0.26.0->OpenTTDLab==0.0.72) (0.14.0)\n",
      "Requirement already satisfied: six>=1.5 in /Users/michalc/miniconda3/envs/py311/lib/python3.11/site-packages (from python-dateutil>=2.8.2->pandas==2.2.0) (1.16.0)\n",
      "Requirement already satisfied: markdown-it-py>=2.2.0 in /Users/michalc/miniconda3/envs/py311/lib/python3.11/site-packages (from rich>=13.7.1->OpenTTDLab==0.0.72) (3.0.0)\n",
      "Requirement already satisfied: pygments<3.0.0,>=2.13.0 in /Users/michalc/miniconda3/envs/py311/lib/python3.11/site-packages (from rich>=13.7.1->OpenTTDLab==0.0.72) (2.18.0)\n",
      "Requirement already satisfied: mdurl~=0.1 in /Users/michalc/miniconda3/envs/py311/lib/python3.11/site-packages (from markdown-it-py>=2.2.0->rich>=13.7.1->OpenTTDLab==0.0.72) (0.1.2)\n",
      "\u001b[33mWARNING: Ignoring invalid distribution ~qlalchemy (/Users/michalc/miniconda3/envs/py311/lib/python3.11/site-packages)\u001b[0m\u001b[33m\n",
      "\u001b[0m\u001b[33mWARNING: Ignoring invalid distribution ~qlalchemy (/Users/michalc/miniconda3/envs/py311/lib/python3.11/site-packages)\u001b[0m\u001b[33m\n",
      "\u001b[0m\n",
      "\u001b[1m[\u001b[0m\u001b[34;49mnotice\u001b[0m\u001b[1;39;49m]\u001b[0m\u001b[39;49m A new release of pip is available: \u001b[0m\u001b[31;49m24.0\u001b[0m\u001b[39;49m -> \u001b[0m\u001b[32;49m24.2\u001b[0m\n",
      "\u001b[1m[\u001b[0m\u001b[34;49mnotice\u001b[0m\u001b[1;39;49m]\u001b[0m\u001b[39;49m To update, run: \u001b[0m\u001b[32;49mpip3.11 install --upgrade pip\u001b[0m\n"
     ]
    }
   ],
   "source": [
    "!python -m pip install OpenTTDLab==0.0.72 pandas==2.2.0"
   ]
  },
  {
   "cell_type": "code",
   "execution_count": null,
   "id": "24a4985d-62d0-4c62-9314-913034474343",
   "metadata": {},
   "outputs": [
    {
     "data": {
      "application/vnd.jupyter.widget-view+json": {
       "model_id": "e595aa7375774e39a6ba357611f2a2e6",
       "version_major": 2,
       "version_minor": 0
      },
      "text/plain": [
       "Output()"
      ]
     },
     "metadata": {},
     "output_type": "display_data"
    }
   ],
   "source": [
    "from openttdlab import run_experiments, remote_file, bananas_ai_library\n",
    "\n",
    "results = run_experiments(\n",
    "    openttd_version='13.4',\n",
    "    opengfx_version='7.1',\n",
    "    experiments=(\n",
    "        {\n",
    "             'seed': seed,\n",
    "             'ais': (\n",
    "                remote_file(\n",
    "                    'https://github.com/michalc/ParameterisedAI/archive/d3ac662b47267ed4fa84a5b3997c020ef140f1e2.tar.gz',\n",
    "                    ai_name='ParameterisedAI',\n",
    "                    ai_params=(\n",
    "                        ('maximum_buses', maximum_buses),\n",
    "                    ),\n",
    "                ),\n",
    "             ),\n",
    "            'days': 366 * 50 + 1,\n",
    "        }\n",
    "        for maximum_buses in [1, 2, 4, 8, 16]\n",
    "        for seed in range(1, 51)\n",
    "    ),\n",
    "    ai_libraries=(\n",
    "        bananas_ai_library('5046524f', 'Pathfinder.Road', md5='999de61cd3a10680b4ff91547299dc53'),\n",
    "        bananas_ai_library('4752412a', 'Graph.AyStar', md5='f385497c3c922bfd9f61e1bc33b3a4dc'),\n",
    "        bananas_ai_library('51554248', 'Queue.BinaryHeap', md5='8ce55e1397e9c51f8032c3a8a29e9cf5'),\n",
    "    ),\n",
    ")"
   ]
  },
  {
   "cell_type": "code",
   "execution_count": null,
   "id": "0eaf19a5-b20b-48d4-8ce9-b2bb727eed0b",
   "metadata": {},
   "outputs": [],
   "source": [
    "import pandas as pd\n",
    "\n",
    "df = pd.DataFrame(\n",
    "    {\n",
    "        # It's slightly awkward right now to get at the original AI params\n",
    "        'max_buses': row['experiment']['ais'][0][1][0][1],\n",
    "        'seed': row['experiment']['seed'],\n",
    "        'date': row['date'],\n",
    "        'money': row['chunks']['PLYR']['0']['money'],\n",
    "    }\n",
    "    for row in results\n",
    ")\n",
    "df.to_csv('02_own_parameterised_ai_results_01_raw.csv', index=False)"
   ]
  }
 ],
 "metadata": {
  "kernelspec": {
   "display_name": "Python 3 (ipykernel)",
   "language": "python",
   "name": "python3"
  },
  "language_info": {
   "codemirror_mode": {
    "name": "ipython",
    "version": 3
   },
   "file_extension": ".py",
   "mimetype": "text/x-python",
   "name": "python",
   "nbconvert_exporter": "python",
   "pygments_lexer": "ipython3",
   "version": "3.11.0"
  }
 },
 "nbformat": 4,
 "nbformat_minor": 5
}
