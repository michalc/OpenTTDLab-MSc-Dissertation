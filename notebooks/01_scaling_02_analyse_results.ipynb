{
 "cells": [
  {
   "cell_type": "markdown",
   "id": "f561842c-267a-44a0-9ef9-b7fca2797b42",
   "metadata": {},
   "source": [
    "# Scaling - analyse results\n",
    "\n",
    "Extracts and visualises results 01_scaling_raw.csv."
   ]
  },
  {
   "cell_type": "code",
   "execution_count": null,
   "id": "451a68cd-ff96-4283-8140-77d62f4b8995",
   "metadata": {},
   "outputs": [],
   "source": [
    "import pandas as pd\n",
    "import plotly.express as px"
   ]
  },
  {
   "cell_type": "code",
   "execution_count": null,
   "id": "55107218-f9cd-43ed-85ae-568b871af30b",
   "metadata": {},
   "outputs": [],
   "source": [
    "# Plot raw runtime\n",
    "df_wallclock_times = pd.read_csv('01_scaling_results_01_raw.csv')\n",
    "df_wallclock_times = df_wallclock_times.pivot(index='max_workers', columns='results', values='wallclock_time')\n",
    "px.line(df_wallclock_times)"
   ]
  },
  {
   "cell_type": "code",
   "execution_count": null,
   "id": "6b74ab32-7618-4c9c-92f0-7dd9ede3cd99",
   "metadata": {},
   "outputs": [],
   "source": [
    "# Plot speedup\n",
    "df_speedups = df.loc[1] / df\n",
    "df_speedups['linear'] = df.index\n",
    "px.line(df_speedups)"
   ]
  },
  {
   "cell_type": "code",
   "execution_count": null,
   "id": "6acf60d8-1d23-4638-88d7-471746d77ea6",
   "metadata": {},
   "outputs": [],
   "source": [
    "# Save runtime and speedups\n",
    "df_wallclock_times.to_csv('01_scaling_results_02_wallclock_times.csv', index=False)\n",
    "df_speedups.to_csv('01_scaling_results_03_speedups.csv', index=False)"
   ]
  }
 ],
 "metadata": {
  "kernelspec": {
   "display_name": "Python 3 (ipykernel)",
   "language": "python",
   "name": "python3"
  },
  "language_info": {
   "codemirror_mode": {
    "name": "ipython",
    "version": 3
   },
   "file_extension": ".py",
   "mimetype": "text/x-python",
   "name": "python",
   "nbconvert_exporter": "python",
   "pygments_lexer": "ipython3",
   "version": "3.11.0"
  }
 },
 "nbformat": 4,
 "nbformat_minor": 5
}
