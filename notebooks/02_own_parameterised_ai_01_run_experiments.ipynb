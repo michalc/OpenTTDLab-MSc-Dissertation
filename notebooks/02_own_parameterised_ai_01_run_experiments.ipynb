{
 "cells": [
  {
   "cell_type": "markdown",
   "id": "84673eb5-3076-41cf-961c-d5fe92664d29",
   "metadata": {},
   "source": [
    "# Own parameterised AI - run experiments¶\n",
    "\n",
    "Runs a series of experiments of OpenTTDLab, running https://github.com/michalc/ParameterisedAI for a varying number of buses.\n",
    "\n",
    "Results are saved to 02_own_parameterised_ai_01_raw.csv."
   ]
  },
  {
   "cell_type": "code",
   "execution_count": null,
   "id": "6699905b-f37b-42a1-b1ae-559c56079d9a",
   "metadata": {},
   "outputs": [],
   "source": [
    "!python -m pip install OpenTTDLab==0.0.72 pandas==2.2.0"
   ]
  },
  {
   "cell_type": "code",
   "execution_count": 2,
   "id": "24a4985d-62d0-4c62-9314-913034474343",
   "metadata": {},
   "outputs": [
    {
     "data": {
      "application/vnd.jupyter.widget-view+json": {
       "model_id": "172b9da92fae40199ab4963f974849a2",
       "version_major": 2,
       "version_minor": 0
      },
      "text/plain": [
       "Output()"
      ]
     },
     "metadata": {},
     "output_type": "display_data"
    },
    {
     "data": {
      "text/html": [
       "<pre style=\"white-space:pre;overflow-x:auto;line-height:normal;font-family:Menlo,'DejaVu Sans Mono',consolas,'Courier New',monospace\"></pre>\n"
      ],
      "text/plain": []
     },
     "metadata": {},
     "output_type": "display_data"
    },
    {
     "data": {
      "text/html": [
       "<pre style=\"white-space:pre;overflow-x:auto;line-height:normal;font-family:Menlo,'DejaVu Sans Mono',consolas,'Courier New',monospace\">\n",
       "</pre>\n"
      ],
      "text/plain": [
       "\n"
      ]
     },
     "metadata": {},
     "output_type": "display_data"
    }
   ],
   "source": [
    "from openttdlab import run_experiments, remote_file, bananas_ai_library\n",
    "\n",
    "def process_result(result):\n",
    "    return [{\n",
    "        # It's slightly awkward right now to get at the original AI params\n",
    "        'max_buses': result['experiment']['ais'][0][1][0][1],\n",
    "        'seed': result['experiment']['seed'],\n",
    "        'date': result['date'],\n",
    "        'money': result['chunks']['PLYR']['0']['money'],\n",
    "    }]\n",
    "\n",
    "results = run_experiments(\n",
    "    openttd_version='13.4',\n",
    "    opengfx_version='7.1',\n",
    "    experiments=(\n",
    "        {\n",
    "             'seed': seed,\n",
    "             'ais': (\n",
    "                remote_file(\n",
    "                    'https://github.com/michalc/ParameterisedAI/archive/d3ac662b47267ed4fa84a5b3997c020ef140f1e2.tar.gz',\n",
    "                    ai_name='ParameterisedAI',\n",
    "                    ai_params=(\n",
    "                        ('maximum_buses', maximum_buses),\n",
    "                    ),\n",
    "                ),\n",
    "             ),\n",
    "            'days': 366 * 50 + 1,\n",
    "        }\n",
    "        for maximum_buses in [1, 2, 4, 8, 16]\n",
    "        for seed in range(1, 51)\n",
    "    ),\n",
    "    ai_libraries=(\n",
    "        bananas_ai_library('5046524f', 'Pathfinder.Road', md5='999de61cd3a10680b4ff91547299dc53'),\n",
    "        bananas_ai_library('4752412a', 'Graph.AyStar', md5='f385497c3c922bfd9f61e1bc33b3a4dc'),\n",
    "        bananas_ai_library('51554248', 'Queue.BinaryHeap', md5='8ce55e1397e9c51f8032c3a8a29e9cf5'),\n",
    "    ),\n",
    "    result_processor=process_result,\n",
    ")"
   ]
  },
  {
   "cell_type": "code",
   "execution_count": 3,
   "id": "0eaf19a5-b20b-48d4-8ce9-b2bb727eed0b",
   "metadata": {},
   "outputs": [],
   "source": [
    "import pandas as pd\n",
    "\n",
    "df = pd.DataFrame(results)\n",
    "df.to_csv('02_own_parameterised_ai_results_01_raw.csv', index=False)"
   ]
  }
 ],
 "metadata": {
  "kernelspec": {
   "display_name": "Python 3 (ipykernel)",
   "language": "python",
   "name": "python3"
  },
  "language_info": {
   "codemirror_mode": {
    "name": "ipython",
    "version": 3
   },
   "file_extension": ".py",
   "mimetype": "text/x-python",
   "name": "python",
   "nbconvert_exporter": "python",
   "pygments_lexer": "ipython3",
   "version": "3.11.0"
  }
 },
 "nbformat": 4,
 "nbformat_minor": 5
}
