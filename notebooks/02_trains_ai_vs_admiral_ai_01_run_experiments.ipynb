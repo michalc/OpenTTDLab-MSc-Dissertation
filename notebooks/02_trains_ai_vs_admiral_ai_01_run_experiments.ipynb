{
 "cells": [
  {
   "cell_type": "raw",
   "id": "b21dc172-058d-417b-b836-ef861fb4648b",
   "metadata": {},
   "source": [
    "# trAIns AI vs Admiral AI - run experiments¶\n",
    "\n",
    "Runs a series of experiments of OpenTTDLab, attempting to replicate the results from \"trAIns: An Artificial Inteligence for OpenTTD\" DOI 10.1109/SBGAMES.2009.15\n",
    "\n",
    "Results are saved to 02_trains_ai_vs_admiral_ai_01_raw.csv."
   ]
  },
  {
   "cell_type": "code",
   "execution_count": null,
   "id": "6699905b-f37b-42a1-b1ae-559c56079d9a",
   "metadata": {},
   "outputs": [],
   "source": [
    "!python -m pip install OpenTTDLab==0.0.72 pandas==2.2.0"
   ]
  },
  {
   "cell_type": "code",
   "execution_count": null,
   "id": "24a4985d-62d0-4c62-9314-913034474343",
   "metadata": {},
   "outputs": [],
   "source": [
    "from openttdlab import run_experiments, bananas_ai, bananas_ai_library\n",
    "\n",
    "def process_result(result):\n",
    "    def get_company_value(player):\n",
    "        try:\n",
    "            return player['old_economy'][0]['company_value']\n",
    "        except (KeyError, IndexError):\n",
    "            return 0\n",
    "    \n",
    "    return (\n",
    "        {\n",
    "            'date': result['date'],\n",
    "            'seed': result['experiment']['seed'],\n",
    "            'terrain_type': result['chunks']['PATS']['0']['difficulty.terrain_type'],\n",
    "            'name': \\\n",
    "                'Admiral AI' if player['name'].startswith('AdmiralAI') else \\\n",
    "                'trAIns AI' if player['name'].startswith('trAIns AI') else \\\n",
    "                'Unknown',\n",
    "            'company_value': get_company_value(player),\n",
    "            'money': player['money'],\n",
    "        }\n",
    "        for player in result['chunks']['PLYR'].values()\n",
    "    )\n",
    "\n",
    "results = run_experiments(\n",
    "    openttd_version='13.4',\n",
    "    opengfx_version='7.1',\n",
    "    experiments=(\n",
    "        {\n",
    "            'seed': seed,\n",
    "            'ais': (\n",
    "                # To get a specific version of a library from BaNaNaS, we use the full MD5 rather than\n",
    "                # the actual version number.\n",
    "                # trAIns 2.1\n",
    "                bananas_ai('54524149', 'trAIns', md5='c4c069dc797674e545411b59867ad0c2'),\n",
    "                # AdmiralAI 25\n",
    "                bananas_ai('41444d4c', 'AdmiralAI', md5='4ccd92fb8f8f01045145be99a28e14a6', ai_params=(\n",
    "                    ('use_trains', '1'),\n",
    "                    ('use_busses', '0'),\n",
    "                    ('use_trucks', '0'),\n",
    "                    ('use_planes', '0'),\n",
    "                )),\n",
    "            ),\n",
    "            'days': 366 * 15 + 1,\n",
    "            'openttd_config': f'''\n",
    "                [difficulty]\n",
    "                terrain_type={terrain_type}\n",
    "                [game_creation]\n",
    "                starting_year=1960\n",
    "                quantity_sea_lakes=0\n",
    "                vehicle_breakdowns=0\n",
    "                max_x=512\n",
    "                max_y=512\n",
    "            ''',\n",
    "        }\n",
    "        for seed in range(0, 64)\n",
    "        for terrain_type in [1, 3]\n",
    "    ),\n",
    "    result_processor=process_result,\n",
    ")"
   ]
  },
  {
   "cell_type": "code",
   "execution_count": null,
   "id": "1f721bae-8791-46f3-be70-41ac22a6e0f9",
   "metadata": {},
   "outputs": [],
   "source": [
    "import pandas as pd\n",
    "\n",
    "df = pd.DataFrame(results)\n",
    "df.to_csv('02_trains_ai_vs_admiral_ai_results_01_raw.csv', index=False)"
   ]
  },
  {
   "cell_type": "code",
   "execution_count": null,
   "id": "00fc2a57-7924-4a2d-8cf7-622d5ecaf650",
   "metadata": {},
   "outputs": [],
   "source": []
  }
 ],
 "metadata": {
  "kernelspec": {
   "display_name": "Python 3 (ipykernel)",
   "language": "python",
   "name": "python3"
  },
  "language_info": {
   "codemirror_mode": {
    "name": "ipython",
    "version": 3
   },
   "file_extension": ".py",
   "mimetype": "text/x-python",
   "name": "python",
   "nbconvert_exporter": "python",
   "pygments_lexer": "ipython3",
   "version": "3.11.0"
  }
 },
 "nbformat": 4,
 "nbformat_minor": 5
}
