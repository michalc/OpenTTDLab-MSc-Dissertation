{
 "cells": [
  {
   "cell_type": "markdown",
   "id": "84673eb5-3076-41cf-961c-d5fe92664d29",
   "metadata": {},
   "source": [
    "# trAIns AI vs Admiral AI - run experiments¶\n",
    "\n",
    "Runs a series of experiments of OpenTTDLab, attempting to replicate the results from \"trAIns: An Artificial Inteligence for OpenTTD\" DOI 10.1109/SBGAMES.2009.15\n",
    "\n",
    "Results are saved to 01_trains_ai_vs_admiral_ai_01_raw.csv."
   ]
  },
  {
   "cell_type": "code",
   "execution_count": 1,
   "id": "6699905b-f37b-42a1-b1ae-559c56079d9a",
   "metadata": {},
   "outputs": [
    {
     "name": "stdout",
     "output_type": "stream",
     "text": [
      "\u001b[33mWARNING: Ignoring invalid distribution ~qlalchemy (/Users/michalc/miniconda3/envs/py311/lib/python3.11/site-packages)\u001b[0m\u001b[33m\n",
      "\u001b[0m\u001b[33mWARNING: Ignoring invalid distribution ~qlalchemy (/Users/michalc/miniconda3/envs/py311/lib/python3.11/site-packages)\u001b[0m\u001b[33m\n",
      "\u001b[0mRequirement already satisfied: OpenTTDLab==0.0.72 in /Users/michalc/miniconda3/envs/py311/lib/python3.11/site-packages (0.0.72)\n",
      "Requirement already satisfied: pandas==2.2.0 in /Users/michalc/miniconda3/envs/py311/lib/python3.11/site-packages (2.2.0)\n",
      "Requirement already satisfied: dill>=0.3.8 in /Users/michalc/miniconda3/envs/py311/lib/python3.11/site-packages (from OpenTTDLab==0.0.72) (0.3.8)\n",
      "Requirement already satisfied: httpx>=0.26.0 in /Users/michalc/miniconda3/envs/py311/lib/python3.11/site-packages (from OpenTTDLab==0.0.72) (0.27.0)\n",
      "Requirement already satisfied: platformdirs>=4.1.0 in /Users/michalc/miniconda3/envs/py311/lib/python3.11/site-packages (from OpenTTDLab==0.0.72) (4.2.2)\n",
      "Requirement already satisfied: pyyaml>=6.0.1 in /Users/michalc/miniconda3/envs/py311/lib/python3.11/site-packages (from OpenTTDLab==0.0.72) (6.0.1)\n",
      "Requirement already satisfied: rich>=13.7.1 in /Users/michalc/miniconda3/envs/py311/lib/python3.11/site-packages (from OpenTTDLab==0.0.72) (13.7.1)\n",
      "Requirement already satisfied: numpy<2,>=1.23.2 in /Users/michalc/miniconda3/envs/py311/lib/python3.11/site-packages (from pandas==2.2.0) (1.26.4)\n",
      "Requirement already satisfied: python-dateutil>=2.8.2 in /Users/michalc/miniconda3/envs/py311/lib/python3.11/site-packages (from pandas==2.2.0) (2.9.0.post0)\n",
      "Requirement already satisfied: pytz>=2020.1 in /Users/michalc/miniconda3/envs/py311/lib/python3.11/site-packages (from pandas==2.2.0) (2023.3)\n",
      "Requirement already satisfied: tzdata>=2022.7 in /Users/michalc/miniconda3/envs/py311/lib/python3.11/site-packages (from pandas==2.2.0) (2024.1)\n",
      "Requirement already satisfied: anyio in /Users/michalc/miniconda3/envs/py311/lib/python3.11/site-packages (from httpx>=0.26.0->OpenTTDLab==0.0.72) (4.4.0)\n",
      "Requirement already satisfied: certifi in /Users/michalc/miniconda3/envs/py311/lib/python3.11/site-packages (from httpx>=0.26.0->OpenTTDLab==0.0.72) (2023.11.17)\n",
      "Requirement already satisfied: httpcore==1.* in /Users/michalc/miniconda3/envs/py311/lib/python3.11/site-packages (from httpx>=0.26.0->OpenTTDLab==0.0.72) (1.0.5)\n",
      "Requirement already satisfied: idna in /Users/michalc/miniconda3/envs/py311/lib/python3.11/site-packages (from httpx>=0.26.0->OpenTTDLab==0.0.72) (3.7)\n",
      "Requirement already satisfied: sniffio in /Users/michalc/miniconda3/envs/py311/lib/python3.11/site-packages (from httpx>=0.26.0->OpenTTDLab==0.0.72) (1.3.1)\n",
      "Requirement already satisfied: h11<0.15,>=0.13 in /Users/michalc/miniconda3/envs/py311/lib/python3.11/site-packages (from httpcore==1.*->httpx>=0.26.0->OpenTTDLab==0.0.72) (0.14.0)\n",
      "Requirement already satisfied: six>=1.5 in /Users/michalc/miniconda3/envs/py311/lib/python3.11/site-packages (from python-dateutil>=2.8.2->pandas==2.2.0) (1.16.0)\n",
      "Requirement already satisfied: markdown-it-py>=2.2.0 in /Users/michalc/miniconda3/envs/py311/lib/python3.11/site-packages (from rich>=13.7.1->OpenTTDLab==0.0.72) (3.0.0)\n",
      "Requirement already satisfied: pygments<3.0.0,>=2.13.0 in /Users/michalc/miniconda3/envs/py311/lib/python3.11/site-packages (from rich>=13.7.1->OpenTTDLab==0.0.72) (2.18.0)\n",
      "Requirement already satisfied: mdurl~=0.1 in /Users/michalc/miniconda3/envs/py311/lib/python3.11/site-packages (from markdown-it-py>=2.2.0->rich>=13.7.1->OpenTTDLab==0.0.72) (0.1.2)\n",
      "\u001b[33mWARNING: Ignoring invalid distribution ~qlalchemy (/Users/michalc/miniconda3/envs/py311/lib/python3.11/site-packages)\u001b[0m\u001b[33m\n",
      "\u001b[0m\u001b[33mWARNING: Ignoring invalid distribution ~qlalchemy (/Users/michalc/miniconda3/envs/py311/lib/python3.11/site-packages)\u001b[0m\u001b[33m\n",
      "\u001b[0m\n",
      "\u001b[1m[\u001b[0m\u001b[34;49mnotice\u001b[0m\u001b[1;39;49m]\u001b[0m\u001b[39;49m A new release of pip is available: \u001b[0m\u001b[31;49m24.0\u001b[0m\u001b[39;49m -> \u001b[0m\u001b[32;49m24.1\u001b[0m\n",
      "\u001b[1m[\u001b[0m\u001b[34;49mnotice\u001b[0m\u001b[1;39;49m]\u001b[0m\u001b[39;49m To update, run: \u001b[0m\u001b[32;49mpip3.11 install --upgrade pip\u001b[0m\n"
     ]
    }
   ],
   "source": [
    "!python -m pip install OpenTTDLab==0.0.72 pandas==2.2.0"
   ]
  },
  {
   "cell_type": "code",
   "execution_count": 7,
   "id": "24a4985d-62d0-4c62-9314-913034474343",
   "metadata": {},
   "outputs": [
    {
     "data": {
      "application/vnd.jupyter.widget-view+json": {
       "model_id": "5a892d1913714ed99cbf114f1562ab70",
       "version_major": 2,
       "version_minor": 0
      },
      "text/plain": [
       "Output()"
      ]
     },
     "metadata": {},
     "output_type": "display_data"
    },
    {
     "data": {
      "text/html": [
       "<pre style=\"white-space:pre;overflow-x:auto;line-height:normal;font-family:Menlo,'DejaVu Sans Mono',consolas,'Courier New',monospace\"></pre>\n"
      ],
      "text/plain": []
     },
     "metadata": {},
     "output_type": "display_data"
    },
    {
     "data": {
      "text/html": [
       "<pre style=\"white-space:pre;overflow-x:auto;line-height:normal;font-family:Menlo,'DejaVu Sans Mono',consolas,'Courier New',monospace\">\n",
       "</pre>\n"
      ],
      "text/plain": [
       "\n"
      ]
     },
     "metadata": {},
     "output_type": "display_data"
    }
   ],
   "source": [
    "from openttdlab import run_experiments, bananas_ai, bananas_ai_library\n",
    "\n",
    "def process_result(result):\n",
    "    def get_company_value(player):\n",
    "        try:\n",
    "            return player['old_economy'][0]['company_value']\n",
    "        except (KeyError, IndexError):\n",
    "            return 0\n",
    "    \n",
    "    return (\n",
    "        {\n",
    "            'date': result['date'],\n",
    "            'seed': result['experiment']['seed'],\n",
    "            'terrain_type': result['chunks']['PATS']['0']['difficulty.terrain_type'],\n",
    "            'name': \\\n",
    "                'Admiral AI' if player['name'].startswith('AdmiralAI') else \\\n",
    "                'trAIns AI' if player['name'].startswith('trAIns AI') else \\\n",
    "                'Unknown',\n",
    "            'company_value': get_company_value(player),\n",
    "            'money': player['money'],\n",
    "        }\n",
    "        for player in result['chunks']['PLYR'].values()\n",
    "    )\n",
    "\n",
    "results = run_experiments(\n",
    "    openttd_version='13.4',\n",
    "    opengfx_version='7.1',\n",
    "    experiments=(\n",
    "        {\n",
    "            'seed': seed,\n",
    "            'ais': (\n",
    "                # To get a specific version of a library from BaNaNaS, we use the full MD5 rather than\n",
    "                # the actual version number.\n",
    "                # trAIns 2.1\n",
    "                bananas_ai('54524149', 'trAIns', md5='c4c069dc797674e545411b59867ad0c2'),\n",
    "                # AdmiralAI 25\n",
    "                bananas_ai('41444d4c', 'AdmiralAI', md5='4ccd92fb8f8f01045145be99a28e14a6', ai_params=(\n",
    "                    ('use_trains', '1'),\n",
    "                    ('use_busses', '0'),\n",
    "                    ('use_trucks', '0'),\n",
    "                    ('use_planes', '0'),\n",
    "                )),\n",
    "            ),\n",
    "            'days': 366 * 15 + 1,\n",
    "            'openttd_config': f'''\n",
    "                [difficulty]\n",
    "                terrain_type={terrain_type}\n",
    "                number_towns=2\n",
    "                industry_density=2\n",
    "                max_loan=300000\n",
    "                initial_interest=3\n",
    "                vehicle_costs=1\n",
    "                subsidy_multiplier=1\n",
    "                construction_cost=1\n",
    "                economy=true\n",
    "                quantity_sea_lakes=0\n",
    "                vehicle_breakdowns=0\n",
    "                town_council_tolerance=1\n",
    "                disasters=true\n",
    "                line_reverse_mode=true\n",
    "                [game_creation]\n",
    "                starting_year=1960\n",
    "                max_x=512\n",
    "                max_y=512\n",
    "            ''',\n",
    "        }\n",
    "        for seed in range(0, 2)\n",
    "        for terrain_type in [1, 3]\n",
    "    ),\n",
    "    result_processor=process_result,\n",
    ")"
   ]
  },
  {
   "cell_type": "code",
   "execution_count": null,
   "id": "0eaf19a5-b20b-48d4-8ce9-b2bb727eed0b",
   "metadata": {},
   "outputs": [],
   "source": [
    "import pandas as pd\n",
    "\n",
    "df = pd.DataFrame(results)\n",
    "df.to_csv('01_trains_ai_vs_admiral_ai_results_01_raw.csv', index=False)"
   ]
  }
 ],
 "metadata": {
  "kernelspec": {
   "display_name": "Python 3 (ipykernel)",
   "language": "python",
   "name": "python3"
  },
  "language_info": {
   "codemirror_mode": {
    "name": "ipython",
    "version": 3
   },
   "file_extension": ".py",
   "mimetype": "text/x-python",
   "name": "python",
   "nbconvert_exporter": "python",
   "pygments_lexer": "ipython3",
   "version": "3.11.0"
  }
 },
 "nbformat": 4,
 "nbformat_minor": 5
}
